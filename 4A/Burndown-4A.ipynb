{
 "cells": [
  {
   "cell_type": "code",
   "execution_count": 1,
   "metadata": {},
   "outputs": [
    {
     "data": {
      "text/html": [
       "<script>requirejs.config({paths: { 'plotly': ['https://cdn.plot.ly/plotly-latest.min']},});if(!window.Plotly) {{require(['plotly'],function(plotly) {window.Plotly=plotly;});}}</script>"
      ],
      "text/plain": [
       "<IPython.core.display.HTML object>"
      ]
     },
     "metadata": {},
     "output_type": "display_data"
    }
   ],
   "source": [
    "import os\n",
    "import glob\n",
    "import time\n",
    "import plotly\n",
    "import requests\n",
    "import numpy as np\n",
    "import pandas as pd\n",
    "\n",
    "plotly.offline.init_notebook_mode(connected=True)"
   ]
  },
  {
   "cell_type": "code",
   "execution_count": 2,
   "metadata": {
    "collapsed": true
   },
   "outputs": [],
   "source": [
    "DT_FORMAT = \"%Y-%m-%d\""
   ]
  },
  {
   "cell_type": "markdown",
   "metadata": {},
   "source": [
    "## Setup Exam Dates"
   ]
  },
  {
   "cell_type": "code",
   "execution_count": 3,
   "metadata": {},
   "outputs": [
    {
     "data": {
      "text/html": [
       "<div>\n",
       "<table border=\"1\" class=\"dataframe\">\n",
       "  <thead>\n",
       "    <tr style=\"text-align: right;\">\n",
       "      <th></th>\n",
       "      <th>item</th>\n",
       "      <th>date</th>\n",
       "    </tr>\n",
       "  </thead>\n",
       "  <tbody>\n",
       "    <tr>\n",
       "      <th>0</th>\n",
       "      <td>ENVS 200</td>\n",
       "      <td>2017-08-09</td>\n",
       "    </tr>\n",
       "    <tr>\n",
       "      <th>1</th>\n",
       "      <td>ECE 429</td>\n",
       "      <td>2017-07-31</td>\n",
       "    </tr>\n",
       "    <tr>\n",
       "      <th>2</th>\n",
       "      <td>ECE 454</td>\n",
       "      <td>2017-08-10</td>\n",
       "    </tr>\n",
       "    <tr>\n",
       "      <th>3</th>\n",
       "      <td>ECE 457A</td>\n",
       "      <td>2017-08-01</td>\n",
       "    </tr>\n",
       "  </tbody>\n",
       "</table>\n",
       "</div>"
      ],
      "text/plain": [
       "       item       date\n",
       "0  ENVS 200 2017-08-09\n",
       "1   ECE 429 2017-07-31\n",
       "2   ECE 454 2017-08-10\n",
       "3  ECE 457A 2017-08-01"
      ]
     },
     "execution_count": 3,
     "metadata": {},
     "output_type": "execute_result"
    }
   ],
   "source": [
    "due_dates = pd.DataFrame(columns = ['item', 'date'],\n",
    "                          data = [['ENVS 200', '2017-08-09'],\n",
    "                                  ['ECE 429', '2017-07-31'],\n",
    "                                  ['ECE 454', '2017-08-10'],\n",
    "                                  ['ECE 457A', '2017-08-01']])\n",
    "due_dates['date'] = pd.to_datetime(due_dates.date)\n",
    "due_dates"
   ]
  },
  {
   "cell_type": "markdown",
   "metadata": {},
   "source": [
    "## Trello Integration"
   ]
  },
  {
   "cell_type": "code",
   "execution_count": 4,
   "metadata": {
    "collapsed": true
   },
   "outputs": [],
   "source": [
    "# define trello auth parameters\n",
    "board = ''\n",
    "applicationKey = ''\n",
    "token = ''"
   ]
  },
  {
   "cell_type": "code",
   "execution_count": 5,
   "metadata": {
    "collapsed": true
   },
   "outputs": [],
   "source": [
    "# Get a list of active courses\n",
    "endpoint = 'https://api.trello.com/1/board/{}/lists?cards=open&card_fields=all&key={}&token={}'.format(board, applicationKey, token)\n",
    "r = requests.get(endpoint)"
   ]
  },
  {
   "cell_type": "code",
   "execution_count": 6,
   "metadata": {
    "collapsed": true
   },
   "outputs": [],
   "source": [
    "list_id_name_map = {}\n",
    "card_id_task_map = {}\n",
    "card_id_list_id_map = {}\n",
    "\n",
    "for l in r.json():\n",
    "    list_id_name_map[l['id']] = l['name']\n",
    "    for card in l['cards']:\n",
    "        card_id_task_map[card['id']] = card['name']\n",
    "        card_id_list_id_map[card['id']] = l['id']\n",
    "        \n",
    "def getList(cardId):\n",
    "    return card_id_list_id_map[cardId]\n",
    "\n",
    "def getListName(listId):\n",
    "    return list_id_name_map[listId]"
   ]
  },
  {
   "cell_type": "code",
   "execution_count": 7,
   "metadata": {
    "collapsed": true
   },
   "outputs": [],
   "source": [
    "# Get a list of all checklists\n",
    "endpoint = 'https://api.trello.com/1/board/{}/checklists?key={}&token={}'.format(board, applicationKey, token)\n",
    "r = requests.get(endpoint)"
   ]
  },
  {
   "cell_type": "code",
   "execution_count": 8,
   "metadata": {
    "collapsed": true
   },
   "outputs": [],
   "source": [
    "rows = []\n",
    "\n",
    "for checklist in r.json():\n",
    "    row = []\n",
    "    # We only care about active tasks\n",
    "    if checklist['idCard'] in card_id_task_map:\n",
    "        if '[' not in checklist['name']: continue\n",
    "        row.append(getListName(getList(checklist['idCard']))) # course\n",
    "        row.append(card_id_task_map[checklist['idCard']]) # task\n",
    "        \n",
    "        score = checklist['name'].replace('[', '').replace(']', '')\n",
    "        if not score.isdigit(): score = ''.join(filter(str.isdigit, score))\n",
    "        score = int(score)\n",
    "        \n",
    "        row.append(score * len(checklist['checkItems'])) # score\n",
    "        score_done = sum([1 for i in checklist['checkItems'] if i['state'] == 'complete']) * score\n",
    "        row.append(score_done)\n",
    "        rows.append(row)"
   ]
  },
  {
   "cell_type": "code",
   "execution_count": 9,
   "metadata": {},
   "outputs": [
    {
     "data": {
      "text/html": [
       "<div>\n",
       "<table border=\"1\" class=\"dataframe\">\n",
       "  <thead>\n",
       "    <tr style=\"text-align: right;\">\n",
       "      <th></th>\n",
       "      <th>course</th>\n",
       "      <th>task</th>\n",
       "      <th>total</th>\n",
       "      <th>complete</th>\n",
       "    </tr>\n",
       "  </thead>\n",
       "  <tbody>\n",
       "    <tr>\n",
       "      <th>0</th>\n",
       "      <td>ENVS 200</td>\n",
       "      <td>Chapter Notes</td>\n",
       "      <td>560</td>\n",
       "      <td>560</td>\n",
       "    </tr>\n",
       "    <tr>\n",
       "      <th>1</th>\n",
       "      <td>ECE 457A</td>\n",
       "      <td>Notes</td>\n",
       "      <td>280</td>\n",
       "      <td>280</td>\n",
       "    </tr>\n",
       "    <tr>\n",
       "      <th>2</th>\n",
       "      <td>ECE 457A</td>\n",
       "      <td>Assignments</td>\n",
       "      <td>70</td>\n",
       "      <td>0</td>\n",
       "    </tr>\n",
       "    <tr>\n",
       "      <th>3</th>\n",
       "      <td>ECE 429</td>\n",
       "      <td>Notes</td>\n",
       "      <td>100</td>\n",
       "      <td>100</td>\n",
       "    </tr>\n",
       "    <tr>\n",
       "      <th>4</th>\n",
       "      <td>ECE 429</td>\n",
       "      <td>Notes</td>\n",
       "      <td>300</td>\n",
       "      <td>300</td>\n",
       "    </tr>\n",
       "  </tbody>\n",
       "</table>\n",
       "</div>"
      ],
      "text/plain": [
       "     course           task  total  complete\n",
       "0  ENVS 200  Chapter Notes    560       560\n",
       "1  ECE 457A          Notes    280       280\n",
       "2  ECE 457A    Assignments     70         0\n",
       "3   ECE 429          Notes    100       100\n",
       "4   ECE 429          Notes    300       300"
      ]
     },
     "execution_count": 9,
     "metadata": {},
     "output_type": "execute_result"
    }
   ],
   "source": [
    "df = pd.DataFrame(rows, columns=['course', 'task', 'total', 'complete'])\n",
    "df.head()"
   ]
  },
  {
   "cell_type": "code",
   "execution_count": 10,
   "metadata": {
    "collapsed": true
   },
   "outputs": [],
   "source": [
    "# Persist today's dataframe to disk\n",
    "todaysFile = time.strftime('data/%Y-%m-%d.csv')\n",
    "if os.path.exists(todaysFile): os.remove(todaysFile)\n",
    "if not os.path.exists(os.path.dirname(todaysFile)): os.makedirs(os.path.dirname(todaysFile))\n",
    "df.to_csv(todaysFile, index=None)"
   ]
  },
  {
   "cell_type": "markdown",
   "metadata": {},
   "source": [
    "## Plot!"
   ]
  },
  {
   "cell_type": "code",
   "execution_count": 11,
   "metadata": {},
   "outputs": [
    {
     "data": {
      "text/html": [
       "<div>\n",
       "<table border=\"1\" class=\"dataframe\">\n",
       "  <thead>\n",
       "    <tr style=\"text-align: right;\">\n",
       "      <th></th>\n",
       "      <th>total</th>\n",
       "      <th>complete</th>\n",
       "      <th>remaining</th>\n",
       "    </tr>\n",
       "    <tr>\n",
       "      <th>date</th>\n",
       "      <th></th>\n",
       "      <th></th>\n",
       "      <th></th>\n",
       "    </tr>\n",
       "  </thead>\n",
       "  <tbody>\n",
       "    <tr>\n",
       "      <th>2017-07-25</th>\n",
       "      <td>2785</td>\n",
       "      <td>280</td>\n",
       "      <td>2505</td>\n",
       "    </tr>\n",
       "    <tr>\n",
       "      <th>2017-07-26</th>\n",
       "      <td>2785</td>\n",
       "      <td>360</td>\n",
       "      <td>2425</td>\n",
       "    </tr>\n",
       "    <tr>\n",
       "      <th>2017-07-27</th>\n",
       "      <td>2785</td>\n",
       "      <td>485</td>\n",
       "      <td>2300</td>\n",
       "    </tr>\n",
       "    <tr>\n",
       "      <th>2017-07-28</th>\n",
       "      <td>2785</td>\n",
       "      <td>605</td>\n",
       "      <td>2180</td>\n",
       "    </tr>\n",
       "    <tr>\n",
       "      <th>2017-07-29</th>\n",
       "      <td>2785</td>\n",
       "      <td>805</td>\n",
       "      <td>1980</td>\n",
       "    </tr>\n",
       "    <tr>\n",
       "      <th>2017-07-30</th>\n",
       "      <td>2785</td>\n",
       "      <td>950</td>\n",
       "      <td>1835</td>\n",
       "    </tr>\n",
       "    <tr>\n",
       "      <th>2017-07-31</th>\n",
       "      <td>2785</td>\n",
       "      <td>1100</td>\n",
       "      <td>1685</td>\n",
       "    </tr>\n",
       "    <tr>\n",
       "      <th>2017-08-01</th>\n",
       "      <td>2785</td>\n",
       "      <td>1425</td>\n",
       "      <td>1360</td>\n",
       "    </tr>\n",
       "    <tr>\n",
       "      <th>2017-08-02</th>\n",
       "      <td>2785</td>\n",
       "      <td>1425</td>\n",
       "      <td>1360</td>\n",
       "    </tr>\n",
       "    <tr>\n",
       "      <th>2017-08-03</th>\n",
       "      <td>2785</td>\n",
       "      <td>1525</td>\n",
       "      <td>1260</td>\n",
       "    </tr>\n",
       "    <tr>\n",
       "      <th>2017-08-04</th>\n",
       "      <td>2785</td>\n",
       "      <td>1775</td>\n",
       "      <td>1010</td>\n",
       "    </tr>\n",
       "    <tr>\n",
       "      <th>2017-08-05</th>\n",
       "      <td>2785</td>\n",
       "      <td>1775</td>\n",
       "      <td>1010</td>\n",
       "    </tr>\n",
       "    <tr>\n",
       "      <th>2017-08-06</th>\n",
       "      <td>2785</td>\n",
       "      <td>1950</td>\n",
       "      <td>835</td>\n",
       "    </tr>\n",
       "    <tr>\n",
       "      <th>2017-08-07</th>\n",
       "      <td>2785</td>\n",
       "      <td>2100</td>\n",
       "      <td>685</td>\n",
       "    </tr>\n",
       "    <tr>\n",
       "      <th>2017-08-08</th>\n",
       "      <td>2785</td>\n",
       "      <td>2310</td>\n",
       "      <td>475</td>\n",
       "    </tr>\n",
       "    <tr>\n",
       "      <th>2017-08-09</th>\n",
       "      <td>2785</td>\n",
       "      <td>2480</td>\n",
       "      <td>305</td>\n",
       "    </tr>\n",
       "    <tr>\n",
       "      <th>2017-08-10</th>\n",
       "      <td>2785</td>\n",
       "      <td>2615</td>\n",
       "      <td>170</td>\n",
       "    </tr>\n",
       "    <tr>\n",
       "      <th>2017-08-24</th>\n",
       "      <td>2785</td>\n",
       "      <td>2615</td>\n",
       "      <td>170</td>\n",
       "    </tr>\n",
       "  </tbody>\n",
       "</table>\n",
       "</div>"
      ],
      "text/plain": [
       "            total  complete  remaining\n",
       "date                                  \n",
       "2017-07-25   2785       280       2505\n",
       "2017-07-26   2785       360       2425\n",
       "2017-07-27   2785       485       2300\n",
       "2017-07-28   2785       605       2180\n",
       "2017-07-29   2785       805       1980\n",
       "2017-07-30   2785       950       1835\n",
       "2017-07-31   2785      1100       1685\n",
       "2017-08-01   2785      1425       1360\n",
       "2017-08-02   2785      1425       1360\n",
       "2017-08-03   2785      1525       1260\n",
       "2017-08-04   2785      1775       1010\n",
       "2017-08-05   2785      1775       1010\n",
       "2017-08-06   2785      1950        835\n",
       "2017-08-07   2785      2100        685\n",
       "2017-08-08   2785      2310        475\n",
       "2017-08-09   2785      2480        305\n",
       "2017-08-10   2785      2615        170\n",
       "2017-08-24   2785      2615        170"
      ]
     },
     "execution_count": 11,
     "metadata": {},
     "output_type": "execute_result"
    }
   ],
   "source": [
    "df_daily = pd.DataFrame()\n",
    "for csv in glob.glob('data/*.csv'):\n",
    "    df_temp = pd.read_csv(csv)\n",
    "    df_temp['date'] = csv.replace('data/', '').replace('.csv', '')\n",
    "    df_daily = df_temp if df_daily.empty else df_daily.append(df_temp)\n",
    "\n",
    "df_daily['date'] = pd.to_datetime(df_daily.date)\n",
    "    \n",
    "overall = df_daily.groupby(['date']).sum()\n",
    "overall['remaining'] = overall['total'] - overall['complete']\n",
    "overall"
   ]
  },
  {
   "cell_type": "code",
   "execution_count": 12,
   "metadata": {},
   "outputs": [
    {
     "data": {
      "text/plain": [
       "date\n",
       "2017-07-25      NaN\n",
       "2017-07-26     80.0\n",
       "2017-07-27    125.0\n",
       "2017-07-28    120.0\n",
       "2017-07-29    200.0\n",
       "2017-07-30    145.0\n",
       "2017-07-31    150.0\n",
       "2017-08-01    325.0\n",
       "2017-08-02      0.0\n",
       "2017-08-03    100.0\n",
       "2017-08-04    250.0\n",
       "2017-08-05      0.0\n",
       "2017-08-06    175.0\n",
       "2017-08-07    150.0\n",
       "2017-08-08    210.0\n",
       "2017-08-09    170.0\n",
       "2017-08-10    135.0\n",
       "2017-08-24      0.0\n",
       "Name: complete, dtype: float64"
      ]
     },
     "execution_count": 12,
     "metadata": {},
     "output_type": "execute_result"
    }
   ],
   "source": [
    "overall['complete'].diff()"
   ]
  },
  {
   "cell_type": "code",
   "execution_count": 13,
   "metadata": {},
   "outputs": [
    {
     "data": {
      "text/html": [
       "<div id=\"66f62645-ab26-4936-afc9-d9b54ad2d1b9\" style=\"height: 525px; width: 100%;\" class=\"plotly-graph-div\"></div><script type=\"text/javascript\">require([\"plotly\"], function(Plotly) { window.PLOTLYENV=window.PLOTLYENV || {};window.PLOTLYENV.BASE_URL=\"https://plot.ly\";Plotly.newPlot(\"66f62645-ab26-4936-afc9-d9b54ad2d1b9\", [{\"x\": [\"2017-07-25\", \"2017-07-26\", \"2017-07-27\", \"2017-07-28\", \"2017-07-29\", \"2017-07-30\", \"2017-07-31\", \"2017-08-01\", \"2017-08-02\", \"2017-08-03\", \"2017-08-04\", \"2017-08-05\", \"2017-08-06\", \"2017-08-07\", \"2017-08-08\", \"2017-08-09\", \"2017-08-10\", \"2017-08-24\"], \"y\": [2505, 2425, 2300, 2180, 1980, 1835, 1685, 1360, 1360, 1260, 1010, 1010, 835, 685, 475, 305, 170, 170]}], {\"title\": \"Overall Burndown\", \"xaxis\": {\"range\": [\"2017-07-25\", \"2017-08-10\"]}, \"yaxis\": {\"range\": [0, 2630.25]}, \"paper_bgcolor\": \"rgba(0,0,0,0)\", \"plot_bgcolor\": \"rgba(0,0,0,0)\"}, {\"showLink\": true, \"linkText\": \"Export to plot.ly\"})});</script>"
      ],
      "text/plain": [
       "<IPython.core.display.HTML object>"
      ]
     },
     "metadata": {},
     "output_type": "display_data"
    }
   ],
   "source": [
    "plotly.offline.iplot({\n",
    "'data': [{\n",
    "    'x': overall['total'].keys(),\n",
    "    'y': overall['remaining'].values\n",
    "}],\n",
    "'layout': {\n",
    "    'title': 'Overall Burndown',\n",
    "    'xaxis': {\n",
    "        'range': ['2017-07-25','2017-08-10']\n",
    "    },\n",
    "    'yaxis': {\n",
    "        'range': [0, max(overall['remaining'].values) * 1.05]\n",
    "    },\n",
    "    'paper_bgcolor': 'rgba(0,0,0,0)',\n",
    "    'plot_bgcolor': 'rgba(0,0,0,0)'\n",
    "}})\n",
    "\n",
    "# xaxis=dict(autorange='reversed', range=[0, 10])"
   ]
  },
  {
   "cell_type": "code",
   "execution_count": 14,
   "metadata": {
    "scrolled": false
   },
   "outputs": [
    {
     "data": {
      "text/html": [
       "<div>\n",
       "<table border=\"1\" class=\"dataframe\">\n",
       "  <thead>\n",
       "    <tr style=\"text-align: right;\">\n",
       "      <th></th>\n",
       "      <th>course</th>\n",
       "      <th>date</th>\n",
       "      <th>total</th>\n",
       "      <th>complete</th>\n",
       "      <th>remaining</th>\n",
       "    </tr>\n",
       "  </thead>\n",
       "  <tbody>\n",
       "    <tr>\n",
       "      <th>0</th>\n",
       "      <td>ECE 429</td>\n",
       "      <td>2017-07-25</td>\n",
       "      <td>660</td>\n",
       "      <td>0</td>\n",
       "      <td>660</td>\n",
       "    </tr>\n",
       "    <tr>\n",
       "      <th>1</th>\n",
       "      <td>ECE 429</td>\n",
       "      <td>2017-07-26</td>\n",
       "      <td>660</td>\n",
       "      <td>0</td>\n",
       "      <td>660</td>\n",
       "    </tr>\n",
       "    <tr>\n",
       "      <th>2</th>\n",
       "      <td>ECE 429</td>\n",
       "      <td>2017-07-27</td>\n",
       "      <td>660</td>\n",
       "      <td>85</td>\n",
       "      <td>575</td>\n",
       "    </tr>\n",
       "    <tr>\n",
       "      <th>3</th>\n",
       "      <td>ECE 429</td>\n",
       "      <td>2017-07-28</td>\n",
       "      <td>660</td>\n",
       "      <td>205</td>\n",
       "      <td>455</td>\n",
       "    </tr>\n",
       "    <tr>\n",
       "      <th>4</th>\n",
       "      <td>ECE 429</td>\n",
       "      <td>2017-07-29</td>\n",
       "      <td>660</td>\n",
       "      <td>325</td>\n",
       "      <td>335</td>\n",
       "    </tr>\n",
       "  </tbody>\n",
       "</table>\n",
       "</div>"
      ],
      "text/plain": [
       "    course       date  total  complete  remaining\n",
       "0  ECE 429 2017-07-25    660         0        660\n",
       "1  ECE 429 2017-07-26    660         0        660\n",
       "2  ECE 429 2017-07-27    660        85        575\n",
       "3  ECE 429 2017-07-28    660       205        455\n",
       "4  ECE 429 2017-07-29    660       325        335"
      ]
     },
     "execution_count": 14,
     "metadata": {},
     "output_type": "execute_result"
    }
   ],
   "source": [
    "course_burndown = df_daily.groupby(['course', 'date']).sum()\n",
    "course_burndown['remaining'] = course_burndown['total'] - course_burndown['complete']\n",
    "course_burndown = course_burndown.reset_index()\n",
    "course_burndown.head()"
   ]
  },
  {
   "cell_type": "code",
   "execution_count": 15,
   "metadata": {},
   "outputs": [
    {
     "data": {
      "text/html": [
       "<div id=\"474e95d6-0fa8-463e-830b-544bdc698b8c\" style=\"height: 525px; width: 100%;\" class=\"plotly-graph-div\"></div><script type=\"text/javascript\">require([\"plotly\"], function(Plotly) { window.PLOTLYENV=window.PLOTLYENV || {};window.PLOTLYENV.BASE_URL=\"https://plot.ly\";Plotly.newPlot(\"474e95d6-0fa8-463e-830b-544bdc698b8c\", [{\"x\": [\"2017-07-25\", \"2017-07-26\", \"2017-07-27\", \"2017-07-28\", \"2017-07-29\", \"2017-07-30\", \"2017-07-31\"], \"y\": [660, 660, 575, 455, 335, 230, 80], \"name\": \"ECE 429\", \"legendgroup\": \"ECE 429\", \"line\": {\"color\": \"#1F77B4\"}}, {\"x\": [], \"y\": [], \"name\": \"Estimated\", \"legendgroup\": \"ECE 429\", \"line\": {\"color\": \"#1F77B4\", \"dash\": \"dot\"}}, {\"x\": [\"2017-07-25\", \"2017-07-26\", \"2017-07-27\", \"2017-07-28\", \"2017-07-29\", \"2017-07-30\", \"2017-07-31\", \"2017-08-01\", \"2017-08-02\", \"2017-08-03\", \"2017-08-04\", \"2017-08-05\", \"2017-08-06\", \"2017-08-07\", \"2017-08-08\", \"2017-08-09\", \"2017-08-10\"], \"y\": [930, 930, 930, 930, 930, 930, 930, 930, 930, 830, 580, 580, 405, 255, 165, 155, 20], \"name\": \"ECE 454\", \"legendgroup\": \"ECE 454\", \"line\": {\"color\": \"#FF7F0E\"}}, {\"x\": [], \"y\": [], \"name\": \"Estimated\", \"legendgroup\": \"ECE 454\", \"line\": {\"color\": \"#FF7F0E\", \"dash\": \"dot\"}}, {\"x\": [\"2017-07-25\", \"2017-07-26\", \"2017-07-27\", \"2017-07-28\", \"2017-07-29\", \"2017-07-30\", \"2017-07-31\", \"2017-08-01\"], \"y\": [635, 555, 515, 515, 435, 395, 395, 70], \"name\": \"ECE 457A\", \"legendgroup\": \"ECE 457A\", \"line\": {\"color\": \"#2CA02C\"}}, {\"x\": [], \"y\": [], \"name\": \"Estimated\", \"legendgroup\": \"ECE 457A\", \"line\": {\"color\": \"#2CA02C\", \"dash\": \"dot\"}}, {\"x\": [\"2017-07-25\", \"2017-07-26\", \"2017-07-27\", \"2017-07-28\", \"2017-07-29\", \"2017-07-30\", \"2017-07-31\", \"2017-08-01\", \"2017-08-02\", \"2017-08-03\", \"2017-08-04\", \"2017-08-05\", \"2017-08-06\", \"2017-08-07\", \"2017-08-08\", \"2017-08-09\"], \"y\": [280, 280, 280, 280, 280, 280, 280, 280, 280, 280, 280, 280, 280, 280, 160, 0], \"name\": \"ENVS 200\", \"legendgroup\": \"ENVS 200\", \"line\": {\"color\": \"#D62728\"}}, {\"x\": [], \"y\": [], \"name\": \"Estimated\", \"legendgroup\": \"ENVS 200\", \"line\": {\"color\": \"#D62728\", \"dash\": \"dot\"}}], {\"title\": \"Burndown By Subject\", \"xaxis\": {\"range\": [\"2017-07-25\", \"2017-08-10\"]}, \"yaxis\": {\"range\": [0, 976.5]}, \"shapes\": [{\"type\": \"line\", \"x0\": \"2017-07-31\", \"y0\": 0, \"x1\": \"2017-07-31\", \"y1\": 125, \"line\": {\"color\": \"#1F77B4\", \"width\": 1.5}}, {\"type\": \"line\", \"x0\": \"2017-08-10\", \"y0\": 0, \"x1\": \"2017-08-10\", \"y1\": 125, \"line\": {\"color\": \"#FF7F0E\", \"width\": 1.5}}, {\"type\": \"line\", \"x0\": \"2017-08-01\", \"y0\": 0, \"x1\": \"2017-08-01\", \"y1\": 125, \"line\": {\"color\": \"#2CA02C\", \"width\": 1.5}}, {\"type\": \"line\", \"x0\": \"2017-08-09\", \"y0\": 0, \"x1\": \"2017-08-09\", \"y1\": 125, \"line\": {\"color\": \"#D62728\", \"width\": 1.5}}], \"paper_bgcolor\": \"rgba(0,0,0,0)\", \"plot_bgcolor\": \"rgba(0,0,0,0)\"}, {\"showLink\": true, \"linkText\": \"Export to plot.ly\"})});</script>"
      ],
      "text/plain": [
       "<IPython.core.display.HTML object>"
      ]
     },
     "metadata": {},
     "output_type": "display_data"
    }
   ],
   "source": [
    "data = []\n",
    "colours = ['#1F77B4','#FF7F0E','#2CA02C','#D62728','#9575D2','#8C564B','#E377C0','#7F7F7F','#BCBD22','#17BECF']\n",
    "i = 0\n",
    "for course in course_burndown['course'].unique():\n",
    "    # Grab course data\n",
    "    x = course_burndown[course_burndown.course == course].date\n",
    "    y = course_burndown[course_burndown.course == course].remaining\n",
    "    \n",
    "    # Get number of days till due\n",
    "    today = course_burndown[course_burndown.course == course].date.iloc[-1]\n",
    "    start = course_burndown[course_burndown.course == course].date.iloc[0]\n",
    "    end = due_dates[due_dates.item == course].date.iloc[0]\n",
    "    days = (end-start).days + 1\n",
    "    ellapsed = (today-start).days\n",
    "    \n",
    "    # Fit a line to the data using last velocity\n",
    "    z = np.polyfit(x=[ellapsed - 1, ellapsed], y=y.iloc[-2:], deg=1)\n",
    "    p = np.poly1d(z)\n",
    "    \n",
    "    # Plot the course burndown (from start till exam day)\n",
    "    data.append({\n",
    "        'x': x[0:days],\n",
    "        'y': y[0:days],\n",
    "        'name': course,\n",
    "        'legendgroup': course,\n",
    "        'line': {\n",
    "            'color': colours[i]\n",
    "        }\n",
    "    })\n",
    "    \n",
    "    # Plot the line of best fit (from today till exam day)\n",
    "    data.append({\n",
    "        'x': pd.date_range(today, end),\n",
    "        'y': p(np.arange(ellapsed, days)),\n",
    "        'name': 'Estimated',\n",
    "        'legendgroup': course,\n",
    "        'line': {\n",
    "            'color': colours[i],\n",
    "            'dash': 'dot'\n",
    "        }\n",
    "    })\n",
    "    \n",
    "    i += 1\n",
    "\n",
    "# Create a list of vertical lines at exam dates, use plotly default colours\n",
    "colours = ['#1F77B4','#FF7F0E','#2CA02C','#D62728','#9575D2','#8C564B','#E377C0','#7F7F7F','#BCBD22','#17BECF']\n",
    "shapes = []\n",
    "for course in course_burndown['course'].unique():\n",
    "    shapes.append({\n",
    "        'type': 'line',\n",
    "        'x0': due_dates[due_dates.item == course].date.iloc[0].strftime(DT_FORMAT),\n",
    "        'y0': 0,\n",
    "        'x1': due_dates[due_dates.item == course].date.iloc[0].strftime(DT_FORMAT),\n",
    "        'y1': 125,\n",
    "        'line': {\n",
    "            'color': colours.pop(0),\n",
    "            'width': 1.5,\n",
    "        }\n",
    "    })\n",
    "\n",
    "plotly.offline.iplot({\n",
    "'data': data,\n",
    "'layout': {\n",
    "    'title': 'Burndown By Subject',\n",
    "    'xaxis': {\n",
    "        'range': ['2017-07-25','2017-08-10']\n",
    "    },\n",
    "    'yaxis': {\n",
    "        'range': [0, max(course_burndown['remaining'].values) * 1.05]\n",
    "    },\n",
    "    'shapes': shapes,\n",
    "    'paper_bgcolor': 'rgba(0,0,0,0)',\n",
    "    'plot_bgcolor': 'rgba(0,0,0,0)'\n",
    "}})\n",
    "\n",
    "# xaxis=dict(autorange='reversed', range=[0, 10])"
   ]
  }
 ],
 "metadata": {
  "kernelspec": {
   "display_name": "Python 3",
   "language": "python",
   "name": "python3"
  },
  "language_info": {
   "codemirror_mode": {
    "name": "ipython",
    "version": 3
   },
   "file_extension": ".py",
   "mimetype": "text/x-python",
   "name": "python",
   "nbconvert_exporter": "python",
   "pygments_lexer": "ipython3",
   "version": "3.6.0"
  }
 },
 "nbformat": 4,
 "nbformat_minor": 2
}
