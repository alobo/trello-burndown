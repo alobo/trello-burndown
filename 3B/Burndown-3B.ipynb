{
 "cells": [
  {
   "cell_type": "code",
   "execution_count": 1,
   "metadata": {},
   "outputs": [
    {
     "data": {
      "text/html": [
       "<script>requirejs.config({paths: { 'plotly': ['https://cdn.plot.ly/plotly-latest.min']},});if(!window.Plotly) {{require(['plotly'],function(plotly) {window.Plotly=plotly;});}}</script>"
      ],
      "text/plain": [
       "<IPython.core.display.HTML object>"
      ]
     },
     "metadata": {},
     "output_type": "display_data"
    }
   ],
   "source": [
    "import os\n",
    "import glob\n",
    "import time\n",
    "import plotly\n",
    "import requests\n",
    "import pandas as pd\n",
    "\n",
    "plotly.offline.init_notebook_mode(connected=True)"
   ]
  },
  {
   "cell_type": "markdown",
   "metadata": {},
   "source": [
    "## Setup Exam Dates"
   ]
  },
  {
   "cell_type": "code",
   "execution_count": 2,
   "metadata": {
    "collapsed": true
   },
   "outputs": [],
   "source": [
    "exam_dates = {\n",
    "  'EARTH 270': '2017-04-09', # -1, morning exam\n",
    "  'ECE 318': '2017-04-16',   # -1, morning exam\n",
    "  'ECE 356': '2017-04-13',\n",
    "  'ECE 358': '2017-04-10',   # -1, morning exam\n",
    "  'ECE 390': '2017-04-19'\n",
    "}"
   ]
  },
  {
   "cell_type": "markdown",
   "metadata": {},
   "source": [
    "## Trello Integration"
   ]
  },
  {
   "cell_type": "code",
   "execution_count": 3,
   "metadata": {
    "collapsed": true
   },
   "outputs": [],
   "source": [
    "# define trello auth parameters\n",
    "board = ''\n",
    "applicationKey = ''\n",
    "token = ''"
   ]
  },
  {
   "cell_type": "code",
   "execution_count": 4,
   "metadata": {
    "collapsed": true
   },
   "outputs": [],
   "source": [
    "# Get a list of active courses\n",
    "endpoint = 'https://api.trello.com/1/board/{}/lists?cards=open&card_fields=all&key={}&token={}'.format(board, applicationKey, token)\n",
    "r = requests.get(endpoint)"
   ]
  },
  {
   "cell_type": "code",
   "execution_count": 5,
   "metadata": {
    "collapsed": true
   },
   "outputs": [],
   "source": [
    "list_id_course_map = {}\n",
    "card_id_task_map = {}\n",
    "card_id_list_id_map = {}\n",
    "\n",
    "for course in r.json():\n",
    "    list_id_course_map[course['id']] = course['name']\n",
    "    for card in course['cards']:\n",
    "        card_id_task_map[card['id']] = card['name']\n",
    "        card_id_list_id_map[card['id']] = course['id']"
   ]
  },
  {
   "cell_type": "code",
   "execution_count": 6,
   "metadata": {
    "collapsed": true
   },
   "outputs": [],
   "source": [
    "def getList(cardId):\n",
    "    return card_id_list_id_map[cardId]\n",
    "\n",
    "def getListName(listId):\n",
    "    return list_id_course_map[listId]"
   ]
  },
  {
   "cell_type": "code",
   "execution_count": 7,
   "metadata": {
    "collapsed": true
   },
   "outputs": [],
   "source": [
    "# Get a list of all checklists\n",
    "endpoint = 'https://api.trello.com/1/board/{}/checklists?key={}&token={}'.format(board, applicationKey, token)\n",
    "r = requests.get(endpoint)"
   ]
  },
  {
   "cell_type": "code",
   "execution_count": 8,
   "metadata": {
    "collapsed": true
   },
   "outputs": [],
   "source": [
    "rows = []\n",
    "\n",
    "for checklist in r.json():\n",
    "    row = []\n",
    "    # We only care about active tasks\n",
    "    if checklist['idCard'] in card_id_task_map:\n",
    "        row.append(getListName(getList(checklist['idCard']))) # course\n",
    "        row.append(card_id_task_map[checklist['idCard']].replace('Exam Review: ', '')) # task\n",
    "        score = int(checklist['name'].replace('[', '').replace(']', ''))\n",
    "        row.append(score * len(checklist['checkItems'])) # score\n",
    "        score_done = sum([1 for i in checklist['checkItems'] if i['state'] == 'complete']) * score\n",
    "        row.append(score_done)\n",
    "        rows.append(row)"
   ]
  },
  {
   "cell_type": "code",
   "execution_count": 9,
   "metadata": {},
   "outputs": [
    {
     "data": {
      "text/html": [
       "<div>\n",
       "<table border=\"1\" class=\"dataframe\">\n",
       "  <thead>\n",
       "    <tr style=\"text-align: right;\">\n",
       "      <th></th>\n",
       "      <th>course</th>\n",
       "      <th>task</th>\n",
       "      <th>total</th>\n",
       "      <th>complete</th>\n",
       "    </tr>\n",
       "  </thead>\n",
       "  <tbody>\n",
       "    <tr>\n",
       "      <th>0</th>\n",
       "      <td>ECE 318</td>\n",
       "      <td>Problem Sets</td>\n",
       "      <td>160</td>\n",
       "      <td>160</td>\n",
       "    </tr>\n",
       "    <tr>\n",
       "      <th>1</th>\n",
       "      <td>ECE 318</td>\n",
       "      <td>Past Finals</td>\n",
       "      <td>90</td>\n",
       "      <td>90</td>\n",
       "    </tr>\n",
       "    <tr>\n",
       "      <th>2</th>\n",
       "      <td>ECE 390</td>\n",
       "      <td>Problem Sets</td>\n",
       "      <td>125</td>\n",
       "      <td>125</td>\n",
       "    </tr>\n",
       "    <tr>\n",
       "      <th>3</th>\n",
       "      <td>ECE 390</td>\n",
       "      <td>Past Finals</td>\n",
       "      <td>30</td>\n",
       "      <td>30</td>\n",
       "    </tr>\n",
       "    <tr>\n",
       "      <th>4</th>\n",
       "      <td>ECE 356</td>\n",
       "      <td>Slides</td>\n",
       "      <td>160</td>\n",
       "      <td>160</td>\n",
       "    </tr>\n",
       "    <tr>\n",
       "      <th>5</th>\n",
       "      <td>ECE 358</td>\n",
       "      <td>Slides</td>\n",
       "      <td>100</td>\n",
       "      <td>100</td>\n",
       "    </tr>\n",
       "    <tr>\n",
       "      <th>6</th>\n",
       "      <td>ECE 358</td>\n",
       "      <td>Problem Sets</td>\n",
       "      <td>80</td>\n",
       "      <td>80</td>\n",
       "    </tr>\n",
       "    <tr>\n",
       "      <th>7</th>\n",
       "      <td>ECE 356</td>\n",
       "      <td>Past Finals</td>\n",
       "      <td>90</td>\n",
       "      <td>90</td>\n",
       "    </tr>\n",
       "    <tr>\n",
       "      <th>8</th>\n",
       "      <td>ECE 358</td>\n",
       "      <td>Past Finals</td>\n",
       "      <td>90</td>\n",
       "      <td>90</td>\n",
       "    </tr>\n",
       "    <tr>\n",
       "      <th>9</th>\n",
       "      <td>ECE 390</td>\n",
       "      <td>Slides</td>\n",
       "      <td>80</td>\n",
       "      <td>80</td>\n",
       "    </tr>\n",
       "    <tr>\n",
       "      <th>10</th>\n",
       "      <td>EARTH 270</td>\n",
       "      <td>Past Finals</td>\n",
       "      <td>50</td>\n",
       "      <td>50</td>\n",
       "    </tr>\n",
       "    <tr>\n",
       "      <th>11</th>\n",
       "      <td>EARTH 270</td>\n",
       "      <td>Slides</td>\n",
       "      <td>270</td>\n",
       "      <td>270</td>\n",
       "    </tr>\n",
       "    <tr>\n",
       "      <th>12</th>\n",
       "      <td>ECE 318</td>\n",
       "      <td>Notes</td>\n",
       "      <td>60</td>\n",
       "      <td>60</td>\n",
       "    </tr>\n",
       "  </tbody>\n",
       "</table>\n",
       "</div>"
      ],
      "text/plain": [
       "       course          task  total  complete\n",
       "0     ECE 318  Problem Sets    160       160\n",
       "1     ECE 318   Past Finals     90        90\n",
       "2     ECE 390  Problem Sets    125       125\n",
       "3     ECE 390   Past Finals     30        30\n",
       "4     ECE 356        Slides    160       160\n",
       "5     ECE 358        Slides    100       100\n",
       "6     ECE 358  Problem Sets     80        80\n",
       "7     ECE 356   Past Finals     90        90\n",
       "8     ECE 358   Past Finals     90        90\n",
       "9     ECE 390        Slides     80        80\n",
       "10  EARTH 270   Past Finals     50        50\n",
       "11  EARTH 270        Slides    270       270\n",
       "12    ECE 318         Notes     60        60"
      ]
     },
     "execution_count": 9,
     "metadata": {},
     "output_type": "execute_result"
    }
   ],
   "source": [
    "df = pd.DataFrame(rows, columns=['course', 'task', 'total', 'complete'])\n",
    "df"
   ]
  },
  {
   "cell_type": "code",
   "execution_count": 10,
   "metadata": {
    "collapsed": true
   },
   "outputs": [],
   "source": [
    "# Persist today's dataframe to disk\n",
    "todaysFile = time.strftime('data/%Y-%m-%d.csv')\n",
    "if os.path.exists(todaysFile): os.remove(todaysFile)\n",
    "if not os.path.exists(os.path.dirname(todaysFile)): os.makedirs(os.path.dirname(todaysFile))\n",
    "df.to_csv(todaysFile, index=None)"
   ]
  },
  {
   "cell_type": "markdown",
   "metadata": {},
   "source": [
    "## Plot!"
   ]
  },
  {
   "cell_type": "code",
   "execution_count": 11,
   "metadata": {},
   "outputs": [
    {
     "data": {
      "text/html": [
       "<div>\n",
       "<table border=\"1\" class=\"dataframe\">\n",
       "  <thead>\n",
       "    <tr style=\"text-align: right;\">\n",
       "      <th></th>\n",
       "      <th>total</th>\n",
       "      <th>complete</th>\n",
       "      <th>remaining</th>\n",
       "    </tr>\n",
       "    <tr>\n",
       "      <th>date</th>\n",
       "      <th></th>\n",
       "      <th></th>\n",
       "      <th></th>\n",
       "    </tr>\n",
       "  </thead>\n",
       "  <tbody>\n",
       "    <tr>\n",
       "      <th>2017-04-03</th>\n",
       "      <td>1455</td>\n",
       "      <td>0</td>\n",
       "      <td>1455</td>\n",
       "    </tr>\n",
       "    <tr>\n",
       "      <th>2017-04-04</th>\n",
       "      <td>1455</td>\n",
       "      <td>40</td>\n",
       "      <td>1415</td>\n",
       "    </tr>\n",
       "    <tr>\n",
       "      <th>2017-04-05</th>\n",
       "      <td>1455</td>\n",
       "      <td>120</td>\n",
       "      <td>1335</td>\n",
       "    </tr>\n",
       "    <tr>\n",
       "      <th>2017-04-06</th>\n",
       "      <td>1455</td>\n",
       "      <td>250</td>\n",
       "      <td>1205</td>\n",
       "    </tr>\n",
       "    <tr>\n",
       "      <th>2017-04-07</th>\n",
       "      <td>1455</td>\n",
       "      <td>250</td>\n",
       "      <td>1205</td>\n",
       "    </tr>\n",
       "    <tr>\n",
       "      <th>2017-04-08</th>\n",
       "      <td>1455</td>\n",
       "      <td>340</td>\n",
       "      <td>1115</td>\n",
       "    </tr>\n",
       "    <tr>\n",
       "      <th>2017-04-09</th>\n",
       "      <td>1455</td>\n",
       "      <td>600</td>\n",
       "      <td>855</td>\n",
       "    </tr>\n",
       "    <tr>\n",
       "      <th>2017-04-10</th>\n",
       "      <td>1455</td>\n",
       "      <td>750</td>\n",
       "      <td>705</td>\n",
       "    </tr>\n",
       "    <tr>\n",
       "      <th>2017-04-11</th>\n",
       "      <td>1455</td>\n",
       "      <td>750</td>\n",
       "      <td>705</td>\n",
       "    </tr>\n",
       "    <tr>\n",
       "      <th>2017-04-12</th>\n",
       "      <td>1455</td>\n",
       "      <td>830</td>\n",
       "      <td>625</td>\n",
       "    </tr>\n",
       "    <tr>\n",
       "      <th>2017-04-13</th>\n",
       "      <td>1455</td>\n",
       "      <td>920</td>\n",
       "      <td>535</td>\n",
       "    </tr>\n",
       "    <tr>\n",
       "      <th>2017-04-14</th>\n",
       "      <td>1455</td>\n",
       "      <td>1000</td>\n",
       "      <td>455</td>\n",
       "    </tr>\n",
       "    <tr>\n",
       "      <th>2017-04-15</th>\n",
       "      <td>1455</td>\n",
       "      <td>1070</td>\n",
       "      <td>385</td>\n",
       "    </tr>\n",
       "    <tr>\n",
       "      <th>2017-04-16</th>\n",
       "      <td>1455</td>\n",
       "      <td>1150</td>\n",
       "      <td>305</td>\n",
       "    </tr>\n",
       "    <tr>\n",
       "      <th>2017-04-17</th>\n",
       "      <td>1415</td>\n",
       "      <td>1215</td>\n",
       "      <td>200</td>\n",
       "    </tr>\n",
       "    <tr>\n",
       "      <th>2017-04-18</th>\n",
       "      <td>1415</td>\n",
       "      <td>1260</td>\n",
       "      <td>155</td>\n",
       "    </tr>\n",
       "    <tr>\n",
       "      <th>2017-04-19</th>\n",
       "      <td>1415</td>\n",
       "      <td>1330</td>\n",
       "      <td>85</td>\n",
       "    </tr>\n",
       "    <tr>\n",
       "      <th>2017-04-24</th>\n",
       "      <td>1385</td>\n",
       "      <td>1385</td>\n",
       "      <td>0</td>\n",
       "    </tr>\n",
       "  </tbody>\n",
       "</table>\n",
       "</div>"
      ],
      "text/plain": [
       "            total  complete  remaining\n",
       "date                                  \n",
       "2017-04-03   1455         0       1455\n",
       "2017-04-04   1455        40       1415\n",
       "2017-04-05   1455       120       1335\n",
       "2017-04-06   1455       250       1205\n",
       "2017-04-07   1455       250       1205\n",
       "2017-04-08   1455       340       1115\n",
       "2017-04-09   1455       600        855\n",
       "2017-04-10   1455       750        705\n",
       "2017-04-11   1455       750        705\n",
       "2017-04-12   1455       830        625\n",
       "2017-04-13   1455       920        535\n",
       "2017-04-14   1455      1000        455\n",
       "2017-04-15   1455      1070        385\n",
       "2017-04-16   1455      1150        305\n",
       "2017-04-17   1415      1215        200\n",
       "2017-04-18   1415      1260        155\n",
       "2017-04-19   1415      1330         85\n",
       "2017-04-24   1385      1385          0"
      ]
     },
     "execution_count": 11,
     "metadata": {},
     "output_type": "execute_result"
    }
   ],
   "source": [
    "df_daily = pd.DataFrame()\n",
    "for csv in glob.glob('data/*.csv'):\n",
    "    df_temp = pd.read_csv(csv)\n",
    "    df_temp['date'] = csv.replace('data/', '').replace('.csv', '')\n",
    "    df_daily = df_temp if df_daily.empty else df_daily.append(df_temp)\n",
    "\n",
    "overall = df_daily.groupby(['date']).sum()\n",
    "overall['remaining'] = overall['total'] - overall['complete']\n",
    "overall"
   ]
  },
  {
   "cell_type": "code",
   "execution_count": 12,
   "metadata": {},
   "outputs": [
    {
     "data": {
      "text/plain": [
       "date\n",
       "2017-04-03      NaN\n",
       "2017-04-04     40.0\n",
       "2017-04-05     80.0\n",
       "2017-04-06    130.0\n",
       "2017-04-07      0.0\n",
       "2017-04-08     90.0\n",
       "2017-04-09    260.0\n",
       "2017-04-10    150.0\n",
       "2017-04-11      0.0\n",
       "2017-04-12     80.0\n",
       "2017-04-13     90.0\n",
       "2017-04-14     80.0\n",
       "2017-04-15     70.0\n",
       "2017-04-16     80.0\n",
       "2017-04-17     65.0\n",
       "2017-04-18     45.0\n",
       "2017-04-19     70.0\n",
       "2017-04-24     55.0\n",
       "Name: complete, dtype: float64"
      ]
     },
     "execution_count": 12,
     "metadata": {},
     "output_type": "execute_result"
    }
   ],
   "source": [
    "overall['complete'].diff()"
   ]
  },
  {
   "cell_type": "code",
   "execution_count": 13,
   "metadata": {},
   "outputs": [
    {
     "data": {
      "text/html": [
       "<div id=\"c3bb76d4-0473-4c27-949d-c9d62fc6ecb4\" style=\"height: 525px; width: 100%;\" class=\"plotly-graph-div\"></div><script type=\"text/javascript\">require([\"plotly\"], function(Plotly) { window.PLOTLYENV=window.PLOTLYENV || {};window.PLOTLYENV.BASE_URL=\"https://plot.ly\";Plotly.newPlot(\"c3bb76d4-0473-4c27-949d-c9d62fc6ecb4\", [{\"x\": [\"2017-04-03\", \"2017-04-04\", \"2017-04-05\", \"2017-04-06\", \"2017-04-07\", \"2017-04-08\", \"2017-04-09\", \"2017-04-10\", \"2017-04-11\", \"2017-04-12\", \"2017-04-13\", \"2017-04-14\", \"2017-04-15\", \"2017-04-16\", \"2017-04-17\", \"2017-04-18\", \"2017-04-19\", \"2017-04-24\"], \"y\": [1455, 1415, 1335, 1205, 1205, 1115, 855, 705, 705, 625, 535, 455, 385, 305, 200, 155, 85, 0]}], {\"title\": \"Overall Burndown\", \"xaxis\": {\"range\": [\"2017-04-03\", \"2017-04-21\"]}, \"yaxis\": {\"range\": [0, 1527.75]}}, {\"showLink\": true, \"linkText\": \"Export to plot.ly\"})});</script>"
      ],
      "text/plain": [
       "<IPython.core.display.HTML object>"
      ]
     },
     "metadata": {},
     "output_type": "display_data"
    }
   ],
   "source": [
    "plotly.offline.iplot({\n",
    "'data': [{\n",
    "    'x': overall['total'].keys(),\n",
    "    'y': overall['remaining'].values\n",
    "}],\n",
    "'layout': {\n",
    "    'title': 'Overall Burndown',\n",
    "    'xaxis': {\n",
    "        'range': ['2017-04-03','2017-04-21']\n",
    "    },\n",
    "    'yaxis': {\n",
    "        'range': [0, max(overall['remaining'].values) * 1.05]\n",
    "    }\n",
    "}})\n",
    "\n",
    "xaxis=dict(autorange='reversed', range=[0, 10])"
   ]
  },
  {
   "cell_type": "code",
   "execution_count": 14,
   "metadata": {
    "scrolled": false
   },
   "outputs": [
    {
     "data": {
      "text/html": [
       "<div>\n",
       "<table border=\"1\" class=\"dataframe\">\n",
       "  <thead>\n",
       "    <tr style=\"text-align: right;\">\n",
       "      <th></th>\n",
       "      <th>course</th>\n",
       "      <th>date</th>\n",
       "      <th>total</th>\n",
       "      <th>complete</th>\n",
       "      <th>remaining</th>\n",
       "    </tr>\n",
       "  </thead>\n",
       "  <tbody>\n",
       "    <tr>\n",
       "      <th>0</th>\n",
       "      <td>EARTH 270</td>\n",
       "      <td>2017-04-03</td>\n",
       "      <td>320</td>\n",
       "      <td>0</td>\n",
       "      <td>320</td>\n",
       "    </tr>\n",
       "    <tr>\n",
       "      <th>1</th>\n",
       "      <td>EARTH 270</td>\n",
       "      <td>2017-04-04</td>\n",
       "      <td>320</td>\n",
       "      <td>0</td>\n",
       "      <td>320</td>\n",
       "    </tr>\n",
       "    <tr>\n",
       "      <th>2</th>\n",
       "      <td>EARTH 270</td>\n",
       "      <td>2017-04-05</td>\n",
       "      <td>320</td>\n",
       "      <td>0</td>\n",
       "      <td>320</td>\n",
       "    </tr>\n",
       "    <tr>\n",
       "      <th>3</th>\n",
       "      <td>EARTH 270</td>\n",
       "      <td>2017-04-06</td>\n",
       "      <td>320</td>\n",
       "      <td>60</td>\n",
       "      <td>260</td>\n",
       "    </tr>\n",
       "    <tr>\n",
       "      <th>4</th>\n",
       "      <td>EARTH 270</td>\n",
       "      <td>2017-04-07</td>\n",
       "      <td>320</td>\n",
       "      <td>60</td>\n",
       "      <td>260</td>\n",
       "    </tr>\n",
       "  </tbody>\n",
       "</table>\n",
       "</div>"
      ],
      "text/plain": [
       "      course        date  total  complete  remaining\n",
       "0  EARTH 270  2017-04-03    320         0        320\n",
       "1  EARTH 270  2017-04-04    320         0        320\n",
       "2  EARTH 270  2017-04-05    320         0        320\n",
       "3  EARTH 270  2017-04-06    320        60        260\n",
       "4  EARTH 270  2017-04-07    320        60        260"
      ]
     },
     "execution_count": 14,
     "metadata": {},
     "output_type": "execute_result"
    }
   ],
   "source": [
    "course_burndown = df_daily.groupby(['course', 'date']).sum()\n",
    "course_burndown['remaining'] = course_burndown['total'] - course_burndown['complete']\n",
    "course_burndown = course_burndown.reset_index()\n",
    "course_burndown.head()"
   ]
  },
  {
   "cell_type": "code",
   "execution_count": 19,
   "metadata": {},
   "outputs": [
    {
     "data": {
      "text/html": [
       "<div>\n",
       "<table border=\"1\" class=\"dataframe\">\n",
       "  <thead>\n",
       "    <tr style=\"text-align: right;\">\n",
       "      <th></th>\n",
       "      <th>total</th>\n",
       "      <th>complete</th>\n",
       "      <th>remaining</th>\n",
       "    </tr>\n",
       "    <tr>\n",
       "      <th>date</th>\n",
       "      <th></th>\n",
       "      <th></th>\n",
       "      <th></th>\n",
       "    </tr>\n",
       "  </thead>\n",
       "  <tbody>\n",
       "    <tr>\n",
       "      <th>2017-04-03</th>\n",
       "      <td>NaN</td>\n",
       "      <td>NaN</td>\n",
       "      <td>NaN</td>\n",
       "    </tr>\n",
       "    <tr>\n",
       "      <th>2017-04-04</th>\n",
       "      <td>0.0</td>\n",
       "      <td>40.0</td>\n",
       "      <td>-40.0</td>\n",
       "    </tr>\n",
       "    <tr>\n",
       "      <th>2017-04-05</th>\n",
       "      <td>0.0</td>\n",
       "      <td>80.0</td>\n",
       "      <td>-80.0</td>\n",
       "    </tr>\n",
       "    <tr>\n",
       "      <th>2017-04-06</th>\n",
       "      <td>0.0</td>\n",
       "      <td>130.0</td>\n",
       "      <td>-130.0</td>\n",
       "    </tr>\n",
       "    <tr>\n",
       "      <th>2017-04-07</th>\n",
       "      <td>0.0</td>\n",
       "      <td>0.0</td>\n",
       "      <td>0.0</td>\n",
       "    </tr>\n",
       "    <tr>\n",
       "      <th>2017-04-08</th>\n",
       "      <td>0.0</td>\n",
       "      <td>90.0</td>\n",
       "      <td>-90.0</td>\n",
       "    </tr>\n",
       "    <tr>\n",
       "      <th>2017-04-09</th>\n",
       "      <td>0.0</td>\n",
       "      <td>260.0</td>\n",
       "      <td>-260.0</td>\n",
       "    </tr>\n",
       "    <tr>\n",
       "      <th>2017-04-10</th>\n",
       "      <td>0.0</td>\n",
       "      <td>150.0</td>\n",
       "      <td>-150.0</td>\n",
       "    </tr>\n",
       "    <tr>\n",
       "      <th>2017-04-11</th>\n",
       "      <td>0.0</td>\n",
       "      <td>0.0</td>\n",
       "      <td>0.0</td>\n",
       "    </tr>\n",
       "    <tr>\n",
       "      <th>2017-04-12</th>\n",
       "      <td>0.0</td>\n",
       "      <td>80.0</td>\n",
       "      <td>-80.0</td>\n",
       "    </tr>\n",
       "    <tr>\n",
       "      <th>2017-04-13</th>\n",
       "      <td>0.0</td>\n",
       "      <td>90.0</td>\n",
       "      <td>-90.0</td>\n",
       "    </tr>\n",
       "    <tr>\n",
       "      <th>2017-04-14</th>\n",
       "      <td>0.0</td>\n",
       "      <td>80.0</td>\n",
       "      <td>-80.0</td>\n",
       "    </tr>\n",
       "    <tr>\n",
       "      <th>2017-04-15</th>\n",
       "      <td>0.0</td>\n",
       "      <td>70.0</td>\n",
       "      <td>-70.0</td>\n",
       "    </tr>\n",
       "    <tr>\n",
       "      <th>2017-04-16</th>\n",
       "      <td>0.0</td>\n",
       "      <td>80.0</td>\n",
       "      <td>-80.0</td>\n",
       "    </tr>\n",
       "    <tr>\n",
       "      <th>2017-04-17</th>\n",
       "      <td>-40.0</td>\n",
       "      <td>65.0</td>\n",
       "      <td>-105.0</td>\n",
       "    </tr>\n",
       "    <tr>\n",
       "      <th>2017-04-18</th>\n",
       "      <td>0.0</td>\n",
       "      <td>45.0</td>\n",
       "      <td>-45.0</td>\n",
       "    </tr>\n",
       "    <tr>\n",
       "      <th>2017-04-19</th>\n",
       "      <td>0.0</td>\n",
       "      <td>70.0</td>\n",
       "      <td>-70.0</td>\n",
       "    </tr>\n",
       "    <tr>\n",
       "      <th>2017-04-24</th>\n",
       "      <td>-30.0</td>\n",
       "      <td>55.0</td>\n",
       "      <td>-85.0</td>\n",
       "    </tr>\n",
       "  </tbody>\n",
       "</table>\n",
       "</div>"
      ],
      "text/plain": [
       "            total  complete  remaining\n",
       "date                                  \n",
       "2017-04-03    NaN       NaN        NaN\n",
       "2017-04-04    0.0      40.0      -40.0\n",
       "2017-04-05    0.0      80.0      -80.0\n",
       "2017-04-06    0.0     130.0     -130.0\n",
       "2017-04-07    0.0       0.0        0.0\n",
       "2017-04-08    0.0      90.0      -90.0\n",
       "2017-04-09    0.0     260.0     -260.0\n",
       "2017-04-10    0.0     150.0     -150.0\n",
       "2017-04-11    0.0       0.0        0.0\n",
       "2017-04-12    0.0      80.0      -80.0\n",
       "2017-04-13    0.0      90.0      -90.0\n",
       "2017-04-14    0.0      80.0      -80.0\n",
       "2017-04-15    0.0      70.0      -70.0\n",
       "2017-04-16    0.0      80.0      -80.0\n",
       "2017-04-17  -40.0      65.0     -105.0\n",
       "2017-04-18    0.0      45.0      -45.0\n",
       "2017-04-19    0.0      70.0      -70.0\n",
       "2017-04-24  -30.0      55.0      -85.0"
      ]
     },
     "execution_count": 19,
     "metadata": {},
     "output_type": "execute_result"
    }
   ],
   "source": [
    "course_burndown.groupby(['date']).sum().diff()"
   ]
  },
  {
   "cell_type": "code",
   "execution_count": 15,
   "metadata": {},
   "outputs": [
    {
     "data": {
      "text/html": [
       "<div id=\"7bcb1921-9de2-4c19-a183-c84d5773c6e1\" style=\"height: 525px; width: 100%;\" class=\"plotly-graph-div\"></div><script type=\"text/javascript\">require([\"plotly\"], function(Plotly) { window.PLOTLYENV=window.PLOTLYENV || {};window.PLOTLYENV.BASE_URL=\"https://plot.ly\";Plotly.newPlot(\"7bcb1921-9de2-4c19-a183-c84d5773c6e1\", [{\"x\": [\"2017-04-03\", \"2017-04-04\", \"2017-04-05\", \"2017-04-06\", \"2017-04-07\", \"2017-04-08\", \"2017-04-09\", \"2017-04-10\", \"2017-04-11\", \"2017-04-12\", \"2017-04-13\", \"2017-04-14\", \"2017-04-15\", \"2017-04-16\", \"2017-04-17\", \"2017-04-18\", \"2017-04-19\", \"2017-04-24\"], \"y\": [320, 320, 320, 260, 260, 260, 0, 0, 0, 0, 0, 0, 0, 0, 0, 0, 0, 0], \"name\": \"EARTH 270\"}, {\"x\": [\"2017-04-03\", \"2017-04-04\", \"2017-04-05\", \"2017-04-06\", \"2017-04-07\", \"2017-04-08\", \"2017-04-09\", \"2017-04-10\", \"2017-04-11\", \"2017-04-12\", \"2017-04-13\", \"2017-04-14\", \"2017-04-15\", \"2017-04-16\", \"2017-04-17\", \"2017-04-18\", \"2017-04-19\", \"2017-04-24\"], \"y\": [310, 310, 230, 230, 230, 230, 230, 230, 230, 230, 230, 150, 80, 0, 0, 0, 0, 0], \"name\": \"ECE 318\"}, {\"x\": [\"2017-04-03\", \"2017-04-04\", \"2017-04-05\", \"2017-04-06\", \"2017-04-07\", \"2017-04-08\", \"2017-04-09\", \"2017-04-10\", \"2017-04-11\", \"2017-04-12\", \"2017-04-13\", \"2017-04-14\", \"2017-04-15\", \"2017-04-16\", \"2017-04-17\", \"2017-04-18\", \"2017-04-19\", \"2017-04-24\"], \"y\": [250, 250, 250, 250, 250, 210, 210, 170, 170, 90, 0, 0, 0, 0, 0, 0, 0, 0], \"name\": \"ECE 356\"}, {\"x\": [\"2017-04-03\", \"2017-04-04\", \"2017-04-05\", \"2017-04-06\", \"2017-04-07\", \"2017-04-08\", \"2017-04-09\", \"2017-04-10\", \"2017-04-11\", \"2017-04-12\", \"2017-04-13\", \"2017-04-14\", \"2017-04-15\", \"2017-04-16\", \"2017-04-17\", \"2017-04-18\", \"2017-04-19\", \"2017-04-24\"], \"y\": [270, 230, 230, 160, 160, 110, 110, 0, 0, 0, 0, 0, 0, 0, 0, 0, 0, 0], \"name\": \"ECE 358\"}, {\"x\": [\"2017-04-03\", \"2017-04-04\", \"2017-04-05\", \"2017-04-06\", \"2017-04-07\", \"2017-04-08\", \"2017-04-09\", \"2017-04-10\", \"2017-04-11\", \"2017-04-12\", \"2017-04-13\", \"2017-04-14\", \"2017-04-15\", \"2017-04-16\", \"2017-04-17\", \"2017-04-18\", \"2017-04-19\", \"2017-04-24\"], \"y\": [305, 305, 305, 305, 305, 305, 305, 305, 305, 305, 305, 305, 305, 305, 200, 155, 85, 0], \"name\": \"ECE 390\"}], {\"title\": \"By Subject Burndown\", \"xaxis\": {\"range\": [\"2017-04-03\", \"2017-04-21\"]}, \"yaxis\": {\"range\": [0, 336.0]}, \"shapes\": [{\"type\": \"line\", \"x0\": \"2017-04-09\", \"y0\": 0, \"x1\": \"2017-04-09\", \"y1\": 50, \"line\": {\"color\": \"#1F77B4\", \"width\": 1.5}}, {\"type\": \"line\", \"x0\": \"2017-04-16\", \"y0\": 0, \"x1\": \"2017-04-16\", \"y1\": 50, \"line\": {\"color\": \"#FF7F0E\", \"width\": 1.5}}, {\"type\": \"line\", \"x0\": \"2017-04-13\", \"y0\": 0, \"x1\": \"2017-04-13\", \"y1\": 50, \"line\": {\"color\": \"#2CA02C\", \"width\": 1.5}}, {\"type\": \"line\", \"x0\": \"2017-04-10\", \"y0\": 0, \"x1\": \"2017-04-10\", \"y1\": 50, \"line\": {\"color\": \"#D62728\", \"width\": 1.5}}, {\"type\": \"line\", \"x0\": \"2017-04-19\", \"y0\": 0, \"x1\": \"2017-04-19\", \"y1\": 50, \"line\": {\"color\": \"#9575D2\", \"width\": 1.5}}]}, {\"showLink\": true, \"linkText\": \"Export to plot.ly\"})});</script>"
      ],
      "text/plain": [
       "<IPython.core.display.HTML object>"
      ]
     },
     "metadata": {},
     "output_type": "display_data"
    }
   ],
   "source": [
    "data = []\n",
    "for course in course_burndown['course'].unique():\n",
    "    data.append({\n",
    "        'x': course_burndown[course_burndown.course == course].date,\n",
    "        'y': course_burndown[course_burndown.course == course].remaining,\n",
    "        'name': course\n",
    "    })\n",
    "\n",
    "# Create a list of vertical lines at exam dates, use plotly default colours\n",
    "colours = ['#1F77B4','#FF7F0E','#2CA02C','#D62728','#9575D2','#8C564B','#E377C0','#7F7F7F','#BCBD22','#17BECF']\n",
    "shapes = []\n",
    "for course in course_burndown['course'].unique():\n",
    "    shapes.append({\n",
    "        'type': 'line',\n",
    "        'x0': exam_dates[course],\n",
    "        'y0': 0,\n",
    "        'x1': exam_dates[course],\n",
    "        'y1': 50,\n",
    "        'line': {\n",
    "            'color': colours.pop(0),\n",
    "            'width': 1.5,\n",
    "        }\n",
    "    })\n",
    "\n",
    "plotly.offline.iplot({\n",
    "'data': data,\n",
    "'layout': {\n",
    "    'title': 'By Subject Burndown',\n",
    "    'xaxis': {\n",
    "        'range': ['2017-04-03','2017-04-21']\n",
    "    },\n",
    "    'yaxis': {\n",
    "        'range': [0, max(course_burndown['remaining'].values) * 1.05]\n",
    "    },\n",
    "    'shapes': shapes\n",
    "}})\n",
    "\n",
    "xaxis=dict(autorange='reversed', range=[0, 10])"
   ]
  },
  {
   "cell_type": "code",
   "execution_count": null,
   "metadata": {
    "collapsed": true
   },
   "outputs": [],
   "source": []
  }
 ],
 "metadata": {
  "kernelspec": {
   "display_name": "Python 3",
   "language": "python",
   "name": "python3"
  },
  "language_info": {
   "codemirror_mode": {
    "name": "ipython",
    "version": 3
   },
   "file_extension": ".py",
   "mimetype": "text/x-python",
   "name": "python",
   "nbconvert_exporter": "python",
   "pygments_lexer": "ipython3",
   "version": "3.6.0"
  }
 },
 "nbformat": 4,
 "nbformat_minor": 2
}
